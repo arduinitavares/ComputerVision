{
 "cells": [
  {
   "cell_type": "markdown",
   "metadata": {
    "collapsed": true,
    "pycharm": {
     "name": "#%% md\n"
    }
   },
   "source": [
    "# CNN for Classification\n",
    "### Load the data"
   ]
  },
  {
   "cell_type": "code",
   "execution_count": 25,
   "outputs": [
    {
     "name": "stdout",
     "output_type": "stream",
     "text": [
      "Train data, number of images: 10000\n",
      "Test data, number of images: 10000\n"
     ]
    }
   ],
   "source": [
    "# our basic libraries\n",
    "import torch\n",
    "import torchvision\n",
    "import matplotlib.pyplot as plt\n",
    "import numpy as np\n",
    "\n",
    "# data loading and transforming\n",
    "from torchvision.datasets import FashionMNIST\n",
    "from torch.utils.data import DataLoader\n",
    "from torchvision import transforms\n",
    "import os\n",
    "os.chdir(r'C:\\Users\\Gebruiker\\PycharmProjects')\n",
    "\n",
    "\n",
    "\n",
    "# The output of torchvision dataset are PILimage images of range [0, 1]\n",
    "# We transform them to Tersors for input into a CNN\n",
    "\n",
    "## Define a transform to read the data in as ternsor\n",
    "data_transform = transforms.ToTensor()\n",
    "\n",
    "# choose the training and test datasets\n",
    "train_data = FashionMNIST(root='./data', train=False, download=True,\n",
    "                          transform=data_transform)\n",
    "\n",
    "test_data = FashionMNIST(root='./data', train=False, download=True,\n",
    "                         transform=data_transform)\n",
    "# Print out some stats about the training data\n",
    "print(f'Train data, number of images: { len(train_data)}')\n",
    "print(f'Test data, number of images: { len(test_data)}')"
   ],
   "metadata": {
    "collapsed": false,
    "pycharm": {
     "name": "#%%\n"
    }
   }
  },
  {
   "cell_type": "markdown",
   "source": [
    "### Data iteration and batching\n",
    "We'll use torch.utils.data.DataLoader, which is an iterator that allows\n",
    "us to batch and shuffle data."
   ],
   "metadata": {
    "collapsed": false,
    "pycharm": {
     "name": "#%% md\n"
    }
   }
  },
  {
   "cell_type": "code",
   "execution_count": 26,
   "outputs": [],
   "source": [
    "# prepare data loaders, set the batch_size\n",
    "\n",
    "batch_size= 10\n",
    "train_loader = DataLoader(train_data, batch_size=batch_size, shuffle=True)\n",
    "test_loader = DataLoader(test_data, batch_size=batch_size, shuffle=True)\n",
    "\n",
    "# specify the image classes\n",
    "classes = ['T-shirt/top', 'Trouser', 'Pullover', 'Dress', 'Coat',\n",
    "           'Sandal', 'Shirt', 'Sneaker', 'Bag', 'Ankle boot']"
   ],
   "metadata": {
    "collapsed": false,
    "pycharm": {
     "name": "#%%\n"
    }
   }
  },
  {
   "cell_type": "markdown",
   "source": [
    "### Visualize some training data\n",
    "This cell iterates over the training dataset, loading a random batch of image\n",
    "label data, using dataiter.next(). It then plots the batch of images and labels\n",
    "in a 2x 2 batch_size.2 grid."
   ],
   "metadata": {
    "collapsed": false,
    "pycharm": {
     "name": "#%% md\n"
    }
   }
  },
  {
   "cell_type": "code",
   "execution_count": 27,
   "outputs": [
    {
     "name": "stderr",
     "output_type": "stream",
     "text": [
      "<ipython-input-27-1f347a8e88fe>:11: MatplotlibDeprecationWarning: Passing non-integers as three-element position specification is deprecated since 3.3 and will be removed two minor releases later.\n",
      "  ax = fig.add_subplot(2, batch_size/2, idx+1, xticks=[], yticks=[])\n"
     ]
    },
    {
     "data": {
      "text/plain": "<Figure size 1800x288 with 10 Axes>",
      "image/png": "[encoded data removed]"
     },
     "metadata": {},
     "output_type": "display_data"
    }
   ],
   "source": [
    "%matplotlib inline\n",
    "\n",
    "# obtain one batch of training images\n",
    "dataiter = iter(train_loader)\n",
    "images, labels = dataiter.next()\n",
    "images = images.numpy()\n",
    "\n",
    "# plot the images in the batch, along with the corresponding labels\n",
    "fig = plt.figure(figsize=(25, 4))\n",
    "for idx in np.arange(batch_size):\n",
    "    ax = fig.add_subplot(2, batch_size/2, idx+1, xticks=[], yticks=[])\n",
    "    ax.imshow(np.squeeze(images[idx]), cmap='gray')\n",
    "    ax.set_title(classes[labels[idx]])"
   ],
   "metadata": {
    "collapsed": false,
    "pycharm": {
     "name": "#%%\n"
    }
   }
  },
  {
   "cell_type": "markdown",
   "source": [
    "### Define the network architecture"
   ],
   "metadata": {
    "collapsed": false,
    "pycharm": {
     "name": "#%% md\n"
    }
   }
  },
  {
   "cell_type": "code",
   "execution_count": 28,
   "outputs": [
    {
     "name": "stdout",
     "output_type": "stream",
     "text": [
      "Net(\n",
      "  (conv1): Conv2d(1, 10, kernel_size=(3, 3), stride=(1, 1))\n",
      "  (maxpool2d_1): MaxPool2d(kernel_size=2, stride=2, padding=0, dilation=1, ceil_mode=False)\n",
      "  (drop1): Dropout(p=0.4, inplace=False)\n",
      "  (conv2): Conv2d(10, 20, kernel_size=(3, 3), stride=(1, 1))\n",
      "  (maxpool2d_2): MaxPool2d(kernel_size=2, stride=2, padding=0, dilation=1, ceil_mode=False)\n",
      "  (drop2): Dropout(p=0.3, inplace=False)\n",
      "  (full_connected_1): Linear(in_features=500, out_features=32, bias=True)\n",
      "  (full_connected_2): Linear(in_features=32, out_features=10, bias=True)\n",
      ")\n"
     ]
    }
   ],
   "source": [
    "import torch.nn as nn\n",
    "import torch.nn.functional as F\n",
    "\n",
    "class Net(nn.Module):\n",
    "\n",
    "    def __init__(self):\n",
    "        super(Net, self).__init__()\n",
    "\n",
    "        # 1 input image channel (grayscale), 10 output channels / feature maps\n",
    "        # 3x3 square convolution kernel\n",
    "        # 1x28x28 => 10x26x26\n",
    "        self.conv1 = nn.Conv2d(in_channels=1,\n",
    "                               out_channels=10,\n",
    "                               kernel_size=3)\n",
    "\n",
    "        # define a MaxPool2d layer\n",
    "        # 10x26x26 => 10x13x13\n",
    "        self.maxpool2d_1 = nn.MaxPool2d(kernel_size=2, stride=2)\n",
    "\n",
    "        # Define a dropout layer\n",
    "        self.drop1 = nn.Dropout(p=0.4)\n",
    "\n",
    "        # Define the second convolutional layer\n",
    "        # 10x13x13 => 20x11x11\n",
    "        self.conv2 = nn.Conv2d(in_channels=10,\n",
    "                               out_channels=20,\n",
    "                               kernel_size=3)\n",
    "\n",
    "        # define a MaxPool2d layer\n",
    "        # 20x11x11 => 20x5x5\n",
    "        self.maxpool2d_2 = nn.MaxPool2d(kernel_size=2, stride=2)\n",
    "\n",
    "        # Define a dropout layer\n",
    "        self.drop2 = nn.Dropout(p=0.3)\n",
    "\n",
    "        # 20x5x5 => 1x500 (flattered vector)\n",
    "        self.full_connected_1 = nn.Linear(20*5*5, 32)\n",
    "\n",
    "        # 512 => 10\n",
    "        self.full_connected_2 = nn.Linear(32, 10)\n",
    "\n",
    "\n",
    "    # Define the feedforward behavior\n",
    "    def forward(self, x):\n",
    "        x = self.conv1(x)\n",
    "        x = F.relu(x)\n",
    "        x = self.maxpool2d_1(x)\n",
    "\n",
    "        x = self.conv2(x)\n",
    "        x = F.relu(x)\n",
    "        x = self.maxpool2d_2(x)\n",
    "\n",
    "        # prepare for the linear layer\n",
    "        #flatten the inputs into a vector\n",
    "        x = x.view(x.size(0), -1)\n",
    "\n",
    "        x = self.drop1(x)\n",
    "        x = self.full_connected_1(x)\n",
    "\n",
    "        x = self.drop2(x)\n",
    "        x = self.full_connected_2(x)\n",
    "        x = F.log_softmax(x, dim=1)\n",
    "\n",
    "        return x\n",
    "\n",
    "# instantiate and print your net\n",
    "net = Net()\n",
    "print(net)"
   ],
   "metadata": {
    "collapsed": false,
    "pycharm": {
     "name": "#%%\n"
    }
   }
  },
  {
   "cell_type": "markdown",
   "source": [
    "### Specify the loss function and optimizer\n",
    "Nothe hat for a classification problem like this, one typically uses cross entropy loss,\n",
    "which can be defined in code like:\n",
    "* criterion = nn.CrossEntropyLoss();\n",
    "Cross entropy loss combines softmax and NLL loss so, alternatively (as in this example), you may see NLL\n",
    "Loss being used when the output of out Net is a distribution of class scores.\n",
    "\n",
    "PyTorch also includes some standard stochastic optimizers like stochastic gradient descent and Adam."
   ],
   "metadata": {
    "collapsed": false,
    "pycharm": {
     "name": "#%% md\n"
    }
   }
  },
  {
   "cell_type": "code",
   "execution_count": 29,
   "outputs": [],
   "source": [
    "import torch.optim as optim\n",
    "\n",
    "# specify loss function\n",
    "criterion = nn.NLLLoss()\n",
    "\n",
    "# specify optimizer\n",
    "optimizer = optim.SGD(net.parameters(), lr=0.001, momentum=0.9)"
   ],
   "metadata": {
    "collapsed": false,
    "pycharm": {
     "name": "#%%\n"
    }
   }
  },
  {
   "cell_type": "markdown",
   "source": [
    "### A note on accuracy\n",
    "It's interesting to look at the accuracy of your network before and after training.\n",
    "This way you can really see that your network has learned something. In the next cell, let's see that\n",
    "your network has learned something. In the next cell, lets see what the accuracy of an untrained network\n",
    "is  (we expect it ot be around 10% which is the same accuracy as just guessing for all 10 classes)"
   ],
   "metadata": {
    "collapsed": false,
    "pycharm": {
     "name": "#%% md\n"
    }
   }
  },
  {
   "cell_type": "code",
   "execution_count": 30,
   "outputs": [
    {
     "name": "stdout",
     "output_type": "stream",
     "text": [
      "Accuracy before training: 12.19\n"
     ]
    }
   ],
   "source": [
    "# Calculate accuracy before training\n",
    "correct = 0\n",
    "total = 0\n",
    "\n",
    "# Iterate through test dataset\n",
    "for images, labels in test_loader:\n",
    "\n",
    "    # forward pass to get outputs\n",
    "    # the outputs are a series of class scores\n",
    "    outputs = net(images)\n",
    "\n",
    "    # get the predicted class from the maximum value in the output-list of class scores\n",
    "    _, predicted = torch.max(outputs.data, 1)\n",
    "\n",
    "    # count up total number of correct labels\n",
    "    # for which the predicted and true labels are equal\n",
    "    total += labels.size(0)\n",
    "    correct += (predicted == labels).sum()\n",
    "\n",
    "# Calculate the accuracy\n",
    "# to convert 'correct' from a tensor in to a scalar, use .item\n",
    "accuracy = 100.0 * correct.item() / total\n",
    "\n",
    "# Print it out\n",
    "print(f'Accuracy before training: {accuracy}')"
   ],
   "metadata": {
    "collapsed": false,
    "pycharm": {
     "name": "#%%\n"
    }
   }
  },
  {
   "cell_type": "markdown",
   "source": [
    "### Train the Network\n",
    "Here are the steps that this training function performs as it iterates overthe training dataset:\n",
    "* Wraps all tensors in Variables;\n",
    "* Zero's the gradients to prepare for a forward pass;\n",
    "* Passes the input through the network (forward pass);\n",
    "* Computes the loss (how far is the predicted classes are from the correct labels);\n",
    "* Updates the weights (parameter update);\n",
    "* Prints out the calculated loss;"
   ],
   "metadata": {
    "collapsed": false,
    "pycharm": {
     "name": "#%% md\n"
    }
   }
  },
  {
   "cell_type": "code",
   "execution_count": 31,
   "outputs": [],
   "source": [
    "from torch.autograd import Variable\n",
    "\n",
    "def train(n_epochs):\n",
    "    print('Starting the training...')\n",
    "    loss_over_time = [] # to track the loss as the network trains\n",
    "\n",
    "    for epoch in range(n_epochs): # Loop over the dataset multiple times\n",
    "\n",
    "        running_loss = 0.0\n",
    "        for batch_i, data in enumerate(train_loader):\n",
    "            # get the input images and their corresponding labels\n",
    "            inputs, labels = data\n",
    "\n",
    "            # wrap them in a torch Variable\n",
    "            inputs, labels = Variable(inputs), Variable(labels)\n",
    "\n",
    "            # zero the parameter (weight) gradients\n",
    "            optimizer.zero_grad()\n",
    "\n",
    "            # forward pass to get outputs\n",
    "            outputs = net.forward(inputs)\n",
    "\n",
    "            # calculate the loss\n",
    "            loss = criterion(outputs, labels)\n",
    "\n",
    "            # backward pass to calculate the parameter gradients\n",
    "            loss.backward()\n",
    "\n",
    "            # update the parameters\n",
    "            optimizer.step()\n",
    "\n",
    "            # print loss statistics\n",
    "            running_loss += loss.item()\n",
    "            if batch_i % 1000 == 999:    # print every 1000 batches\n",
    "                avg_loss = running_loss/1000\n",
    "                # record and print the avg loss over the 1000 batches\n",
    "                loss_over_time.append(avg_loss)\n",
    "                print(f'Epoch: {epoch + 1}, Batch: {batch_i+1}, Avg. Loss: {avg_loss}')\n",
    "                running_loss = 0.0\n",
    "\n",
    "    print('Finished Training')\n",
    "    return loss_over_time\n"
   ],
   "metadata": {
    "collapsed": false,
    "pycharm": {
     "name": "#%%\n"
    }
   }
  },
  {
   "cell_type": "code",
   "execution_count": 32,
   "outputs": [
    {
     "name": "stdout",
     "output_type": "stream",
     "text": [
      "Starting the training...\n",
      "Epoch: 1, Batch: 1000, Avg. Loss: 1.6605419511497022\n",
      "Epoch: 2, Batch: 1000, Avg. Loss: 1.0080482287406922\n",
      "Epoch: 3, Batch: 1000, Avg. Loss: 0.8517104297578335\n",
      "Epoch: 4, Batch: 1000, Avg. Loss: 0.7570109293013811\n",
      "Epoch: 5, Batch: 1000, Avg. Loss: 0.7148953779265285\n",
      "Epoch: 6, Batch: 1000, Avg. Loss: 0.6868566989898681\n",
      "Epoch: 7, Batch: 1000, Avg. Loss: 0.6668094763159752\n",
      "Epoch: 8, Batch: 1000, Avg. Loss: 0.6415939992442727\n",
      "Epoch: 9, Batch: 1000, Avg. Loss: 0.6365253316834569\n",
      "Epoch: 10, Batch: 1000, Avg. Loss: 0.6156944485157728\n",
      "Epoch: 11, Batch: 1000, Avg. Loss: 0.6102769853770733\n",
      "Epoch: 12, Batch: 1000, Avg. Loss: 0.5998566555604339\n",
      "Finished Training\n"
     ]
    }
   ],
   "source": [
    "# define the number of epochs to train for\n",
    "n_epochs = 12 # start small to see if your model works, initially\n",
    "\n",
    "# call train\n",
    "training_loss = train(n_epochs)"
   ],
   "metadata": {
    "collapsed": false,
    "pycharm": {
     "name": "#%%\n"
    }
   }
  },
  {
   "cell_type": "markdown",
   "source": [
    "### Visualizing the loss\n",
    "A good indication of how much your network is learning as it trains is the loss over time.\n",
    "In this example, we printed and recorded the average loss for each 1000 batches and for each epoch."
   ],
   "metadata": {
    "collapsed": false,
    "pycharm": {
     "name": "#%% md\n"
    }
   }
  },
  {
   "cell_type": "code",
   "execution_count": 33,
   "outputs": [
    {
     "data": {
      "text/plain": "<Figure size 432x288 with 1 Axes>",
      "image/png": "[encoded data removed]"
     },
     "metadata": {
      "needs_background": "light"
     },
     "output_type": "display_data"
    }
   ],
   "source": [
    "# visualize the loss as the network trained\n",
    "plt.plot(training_loss)\n",
    "plt.xlabel('1000\\'s of batches')\n",
    "plt.ylabel('loss')\n",
    "plt.ylim(0, 2.5) # consistent scale\n",
    "plt.show()"
   ],
   "metadata": {
    "collapsed": false,
    "pycharm": {
     "name": "#%%\n"
    }
   }
  },
  {
   "cell_type": "markdown",
   "source": [
    "### Test the trained Network\n",
    "Once you are satisfied with how the loss of your model has decreased, there is on last step: test!\n",
    "You must test your trained model on a previously unseen dataset to see if it generalizes well and can\n",
    "accurately classify this new dataset. For FashionMNIST, which contains many pre-precessed training\n",
    "images, a good model should reach greater than 85% accuracy on this test dataset."
   ],
   "metadata": {
    "collapsed": false,
    "pycharm": {
     "name": "#%% md\n"
    }
   }
  },
  {
   "cell_type": "code",
   "execution_count": 34,
   "outputs": [
    {
     "name": "stdout",
     "output_type": "stream",
     "text": [
      "Test Loss: 0.476607\n",
      "\n",
      "Test Accuracy of T-shirt/top: 82% (823/1000)\n",
      "Test Accuracy of Trouser: 96% (964/1000)\n",
      "Test Accuracy of Pullover: 75% (750/1000)\n",
      "Test Accuracy of Dress: 85% (859/1000)\n",
      "Test Accuracy of  Coat: 77% (773/1000)\n",
      "Test Accuracy of Sandal: 94% (945/1000)\n",
      "Test Accuracy of Shirt: 29% (292/1000)\n",
      "Test Accuracy of Sneaker: 91% (913/1000)\n",
      "Test Accuracy of   Bag: 96% (963/1000)\n",
      "Test Accuracy of Ankle boot: 94% (948/1000)\n",
      "\n",
      "Test Accuracy (Overall): 82% (8230/10000)\n"
     ]
    }
   ],
   "source": [
    "# initialize tensor and lists to monitor test loss and accuracy\n",
    "test_loss = torch.zeros(1)\n",
    "class_correct = list(0. for i in range(10))\n",
    "class_total = list(0. for i in range(10))\n",
    "\n",
    "# set the module to evaluation mode\n",
    "net.eval()\n",
    "\n",
    "for batch_i, data in enumerate(test_loader):\n",
    "    # get the input and their corresponding labels\n",
    "    inputs, labels = data\n",
    "\n",
    "    # forward pass to get outputs\n",
    "    outputs = net(inputs)\n",
    "\n",
    "    # calculate the loss\n",
    "    loss = criterion(outputs, labels)\n",
    "\n",
    "    # update average test loss\n",
    "    test_loss += ((torch.ones(1) / (batch_i + 1)) * (loss.data - test_loss))\n",
    "\n",
    "    # get the predicted class from the maximum value in the output-list\n",
    "    # of class scores\n",
    "    _, predicted = torch.max(outputs.data, 1)\n",
    "\n",
    "    # compare predictions to true label\n",
    "    # this creates a 'correct' Tensor that holds the number of\n",
    "    # correctly classifies images in a batch_size\n",
    "    correct = np.squeeze(predicted.eq(labels.data.view_as(predicted)))\n",
    "\n",
    "    # calculate test accuracy for *each* object class\n",
    "    # we get the scalar value of correct items for a class, by calling `correct[i].item()`\n",
    "    for i in range(batch_size):\n",
    "        label = labels.data[i]\n",
    "        class_correct[label] += correct[i].item()\n",
    "        class_total[label] += 1\n",
    "\n",
    "print('Test Loss: {:.6f}\\n'.format(test_loss.numpy()[0]))\n",
    "\n",
    "for i in range(10):\n",
    "    if class_total[i] > 0:\n",
    "        print('Test Accuracy of %5s: %2d%% (%2d/%2d)' % (\n",
    "            classes[i], 100 * class_correct[i] / class_total[i],\n",
    "            np.sum(class_correct[i]), np.sum(class_total[i])))\n",
    "    else:\n",
    "        print('Test Accuracy of %5s: N/A (no training examples)' % (classes[i]))\n",
    "\n",
    "\n",
    "print('\\nTest Accuracy (Overall): %2d%% (%2d/%2d)' % (\n",
    "    100. * np.sum(class_correct) / np.sum(class_total),\n",
    "    np.sum(class_correct), np.sum(class_total)))"
   ],
   "metadata": {
    "collapsed": false,
    "pycharm": {
     "name": "#%%\n"
    }
   }
  },
  {
   "cell_type": "markdown",
   "source": [
    "### Visualize sample test results\n",
    "Format: predicted class (true class)"
   ],
   "metadata": {
    "collapsed": false,
    "pycharm": {
     "name": "#%% md\n"
    }
   }
  },
  {
   "cell_type": "code",
   "execution_count": 35,
   "outputs": [
    {
     "name": "stderr",
     "output_type": "stream",
     "text": [
      "<ipython-input-35-7b847d5ee105>:11: MatplotlibDeprecationWarning: Passing non-integers as three-element position specification is deprecated since 3.3 and will be removed two minor releases later.\n",
      "  ax = fig.add_subplot(2, batch_size/2, idx+1, xticks=[], yticks=[])\n"
     ]
    },
    {
     "data": {
      "text/plain": "<Figure size 1800x288 with 10 Axes>",
      "image/png": "[encoded data removed]"
     },
     "metadata": {},
     "output_type": "display_data"
    }
   ],
   "source": [
    "# obtain one batch of test images\n",
    "dataiter = iter(test_loader)\n",
    "images, labels = dataiter.next()\n",
    "# get predictions\n",
    "preds = np.squeeze(net(images).data.max(1, keepdim=True)[1].numpy())\n",
    "images = images.numpy()\n",
    "\n",
    "# plot the images in the batch, along with predicted and true labels\n",
    "fig = plt.figure(figsize=(25, 4))\n",
    "for idx in np.arange(batch_size):\n",
    "    ax = fig.add_subplot(2, batch_size/2, idx+1, xticks=[], yticks=[])\n",
    "    ax.imshow(np.squeeze(images[idx]), cmap='gray')\n",
    "    ax.set_title(\"{} ({})\".format(classes[preds[idx]], classes[labels[idx]]),\n",
    "                 color=(\"green\" if preds[idx]==labels[idx] else \"red\"))"
   ],
   "metadata": {
    "collapsed": false,
    "pycharm": {
     "name": "#%%\n"
    }
   }
  },
  {
   "cell_type": "code",
   "execution_count": 37,
   "outputs": [
    {
     "ename": "FileNotFoundError",
     "evalue": "[Errno 2] No such file or directory: 'models/fashion_net_simple.pt'",
     "output_type": "error",
     "traceback": [
      "\u001B[1;31m---------------------------------------------------------------------------\u001B[0m",
      "\u001B[1;31mFileNotFoundError\u001B[0m                         Traceback (most recent call last)",
      "\u001B[1;32m<ipython-input-37-ddd1374cae1b>\u001B[0m in \u001B[0;36m<module>\u001B[1;34m\u001B[0m\n\u001B[0;32m      4\u001B[0m \u001B[1;33m\u001B[0m\u001B[0m\n\u001B[0;32m      5\u001B[0m \u001B[1;31m# after training, save your model parameters in the dir 'model'\u001B[0m\u001B[1;33m\u001B[0m\u001B[1;33m\u001B[0m\u001B[1;33m\u001B[0m\u001B[0m\n\u001B[1;32m----> 6\u001B[1;33m \u001B[0mtorch\u001B[0m\u001B[1;33m.\u001B[0m\u001B[0msave\u001B[0m\u001B[1;33m(\u001B[0m\u001B[0mnet\u001B[0m\u001B[1;33m.\u001B[0m\u001B[0mstate_dict\u001B[0m\u001B[1;33m(\u001B[0m\u001B[1;33m)\u001B[0m\u001B[1;33m,\u001B[0m \u001B[0mmodel_dir\u001B[0m \u001B[1;33m+\u001B[0m \u001B[0mmodel_name\u001B[0m\u001B[1;33m)\u001B[0m\u001B[1;33m\u001B[0m\u001B[1;33m\u001B[0m\u001B[0m\n\u001B[0m\u001B[0;32m      7\u001B[0m \u001B[1;33m\u001B[0m\u001B[0m\n",
      "\u001B[1;32mc:\\users\\gebruiker\\pycharmprojects\\pythonproject\\venv\\lib\\site-packages\\torch\\serialization.py\u001B[0m in \u001B[0;36msave\u001B[1;34m(obj, f, pickle_module, pickle_protocol, _use_new_zipfile_serialization)\u001B[0m\n\u001B[0;32m    367\u001B[0m     \u001B[0m_check_dill_version\u001B[0m\u001B[1;33m(\u001B[0m\u001B[0mpickle_module\u001B[0m\u001B[1;33m)\u001B[0m\u001B[1;33m\u001B[0m\u001B[1;33m\u001B[0m\u001B[0m\n\u001B[0;32m    368\u001B[0m \u001B[1;33m\u001B[0m\u001B[0m\n\u001B[1;32m--> 369\u001B[1;33m     \u001B[1;32mwith\u001B[0m \u001B[0m_open_file_like\u001B[0m\u001B[1;33m(\u001B[0m\u001B[0mf\u001B[0m\u001B[1;33m,\u001B[0m \u001B[1;34m'wb'\u001B[0m\u001B[1;33m)\u001B[0m \u001B[1;32mas\u001B[0m \u001B[0mopened_file\u001B[0m\u001B[1;33m:\u001B[0m\u001B[1;33m\u001B[0m\u001B[1;33m\u001B[0m\u001B[0m\n\u001B[0m\u001B[0;32m    370\u001B[0m         \u001B[1;32mif\u001B[0m \u001B[0m_use_new_zipfile_serialization\u001B[0m\u001B[1;33m:\u001B[0m\u001B[1;33m\u001B[0m\u001B[1;33m\u001B[0m\u001B[0m\n\u001B[0;32m    371\u001B[0m             \u001B[1;32mwith\u001B[0m \u001B[0m_open_zipfile_writer\u001B[0m\u001B[1;33m(\u001B[0m\u001B[0mopened_file\u001B[0m\u001B[1;33m)\u001B[0m \u001B[1;32mas\u001B[0m \u001B[0mopened_zipfile\u001B[0m\u001B[1;33m:\u001B[0m\u001B[1;33m\u001B[0m\u001B[1;33m\u001B[0m\u001B[0m\n",
      "\u001B[1;32mc:\\users\\gebruiker\\pycharmprojects\\pythonproject\\venv\\lib\\site-packages\\torch\\serialization.py\u001B[0m in \u001B[0;36m_open_file_like\u001B[1;34m(name_or_buffer, mode)\u001B[0m\n\u001B[0;32m    228\u001B[0m \u001B[1;32mdef\u001B[0m \u001B[0m_open_file_like\u001B[0m\u001B[1;33m(\u001B[0m\u001B[0mname_or_buffer\u001B[0m\u001B[1;33m,\u001B[0m \u001B[0mmode\u001B[0m\u001B[1;33m)\u001B[0m\u001B[1;33m:\u001B[0m\u001B[1;33m\u001B[0m\u001B[1;33m\u001B[0m\u001B[0m\n\u001B[0;32m    229\u001B[0m     \u001B[1;32mif\u001B[0m \u001B[0m_is_path\u001B[0m\u001B[1;33m(\u001B[0m\u001B[0mname_or_buffer\u001B[0m\u001B[1;33m)\u001B[0m\u001B[1;33m:\u001B[0m\u001B[1;33m\u001B[0m\u001B[1;33m\u001B[0m\u001B[0m\n\u001B[1;32m--> 230\u001B[1;33m         \u001B[1;32mreturn\u001B[0m \u001B[0m_open_file\u001B[0m\u001B[1;33m(\u001B[0m\u001B[0mname_or_buffer\u001B[0m\u001B[1;33m,\u001B[0m \u001B[0mmode\u001B[0m\u001B[1;33m)\u001B[0m\u001B[1;33m\u001B[0m\u001B[1;33m\u001B[0m\u001B[0m\n\u001B[0m\u001B[0;32m    231\u001B[0m     \u001B[1;32melse\u001B[0m\u001B[1;33m:\u001B[0m\u001B[1;33m\u001B[0m\u001B[1;33m\u001B[0m\u001B[0m\n\u001B[0;32m    232\u001B[0m         \u001B[1;32mif\u001B[0m \u001B[1;34m'w'\u001B[0m \u001B[1;32min\u001B[0m \u001B[0mmode\u001B[0m\u001B[1;33m:\u001B[0m\u001B[1;33m\u001B[0m\u001B[1;33m\u001B[0m\u001B[0m\n",
      "\u001B[1;32mc:\\users\\gebruiker\\pycharmprojects\\pythonproject\\venv\\lib\\site-packages\\torch\\serialization.py\u001B[0m in \u001B[0;36m__init__\u001B[1;34m(self, name, mode)\u001B[0m\n\u001B[0;32m    209\u001B[0m \u001B[1;32mclass\u001B[0m \u001B[0m_open_file\u001B[0m\u001B[1;33m(\u001B[0m\u001B[0m_opener\u001B[0m\u001B[1;33m)\u001B[0m\u001B[1;33m:\u001B[0m\u001B[1;33m\u001B[0m\u001B[1;33m\u001B[0m\u001B[0m\n\u001B[0;32m    210\u001B[0m     \u001B[1;32mdef\u001B[0m \u001B[0m__init__\u001B[0m\u001B[1;33m(\u001B[0m\u001B[0mself\u001B[0m\u001B[1;33m,\u001B[0m \u001B[0mname\u001B[0m\u001B[1;33m,\u001B[0m \u001B[0mmode\u001B[0m\u001B[1;33m)\u001B[0m\u001B[1;33m:\u001B[0m\u001B[1;33m\u001B[0m\u001B[1;33m\u001B[0m\u001B[0m\n\u001B[1;32m--> 211\u001B[1;33m         \u001B[0msuper\u001B[0m\u001B[1;33m(\u001B[0m\u001B[0m_open_file\u001B[0m\u001B[1;33m,\u001B[0m \u001B[0mself\u001B[0m\u001B[1;33m)\u001B[0m\u001B[1;33m.\u001B[0m\u001B[0m__init__\u001B[0m\u001B[1;33m(\u001B[0m\u001B[0mopen\u001B[0m\u001B[1;33m(\u001B[0m\u001B[0mname\u001B[0m\u001B[1;33m,\u001B[0m \u001B[0mmode\u001B[0m\u001B[1;33m)\u001B[0m\u001B[1;33m)\u001B[0m\u001B[1;33m\u001B[0m\u001B[1;33m\u001B[0m\u001B[0m\n\u001B[0m\u001B[0;32m    212\u001B[0m \u001B[1;33m\u001B[0m\u001B[0m\n\u001B[0;32m    213\u001B[0m     \u001B[1;32mdef\u001B[0m \u001B[0m__exit__\u001B[0m\u001B[1;33m(\u001B[0m\u001B[0mself\u001B[0m\u001B[1;33m,\u001B[0m \u001B[1;33m*\u001B[0m\u001B[0margs\u001B[0m\u001B[1;33m)\u001B[0m\u001B[1;33m:\u001B[0m\u001B[1;33m\u001B[0m\u001B[1;33m\u001B[0m\u001B[0m\n",
      "\u001B[1;31mFileNotFoundError\u001B[0m: [Errno 2] No such file or directory: 'models/fashion_net_simple.pt'"
     ]
    }
   ],
   "source": [
    "# Saving the model\n",
    "model_dir = 'models/'\n",
    "model_name = 'fashion_net_simple.pt'\n",
    "\n",
    "# after training, save your model parameters in the dir 'model'\n",
    "torch.save(net.state_dict(), model_dir + model_name)"
   ],
   "metadata": {
    "collapsed": false,
    "pycharm": {
     "name": "#%%\n"
    }
   }
  },
  {
   "cell_type": "code",
   "execution_count": 49,
   "outputs": [
    {
     "data": {
      "text/plain": "False"
     },
     "execution_count": 49,
     "metadata": {},
     "output_type": "execute_result"
    }
   ],
   "source": [
    "os.path.isdir(r'/models')"
   ],
   "metadata": {
    "collapsed": false,
    "pycharm": {
     "name": "#%%\n"
    }
   }
  },
  {
   "cell_type": "code",
   "execution_count": 41,
   "outputs": [
    {
     "data": {
      "text/plain": "'C:\\\\Users\\\\Gebruiker\\\\PycharmProjects'"
     },
     "execution_count": 41,
     "metadata": {},
     "output_type": "execute_result"
    }
   ],
   "source": [
    "os.getcwd()\n"
   ],
   "metadata": {
    "collapsed": false,
    "pycharm": {
     "name": "#%%\n"
    }
   }
  },
  {
   "cell_type": "code",
   "execution_count": 51,
   "outputs": [
    {
     "data": {
      "text/plain": "['ComputerVision', 'data', 'pythonProject']"
     },
     "execution_count": 51,
     "metadata": {},
     "output_type": "execute_result"
    }
   ],
   "source": [
    "os.listdir()"
   ],
   "metadata": {
    "collapsed": false,
    "pycharm": {
     "name": "#%%\n"
    }
   }
  },
  {
   "cell_type": "code",
   "execution_count": null,
   "outputs": [],
   "source": [],
   "metadata": {
    "collapsed": false,
    "pycharm": {
     "name": "#%%\n"
    }
   }
  }
 ],
 "metadata": {
  "kernelspec": {
   "name": "python3",
   "language": "python",
   "display_name": "Python 3"
  },
  "language_info": {
   "codemirror_mode": {
    "name": "ipython",
    "version": 2
   },
   "file_extension": ".py",
   "mimetype": "text/x-python",
   "name": "python",
   "nbconvert_exporter": "python",
   "pygments_lexer": "ipython2",
   "version": "2.7.6"
  }
 },
 "nbformat": 4,
 "nbformat_minor": 0
}